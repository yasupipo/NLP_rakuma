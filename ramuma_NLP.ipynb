{
 "cells": [
  {
   "cell_type": "code",
   "execution_count": 1,
   "metadata": {},
   "outputs": [],
   "source": [
    "import pandas as pd\n",
    "from collections import Counter\n",
    "import string\n",
    "import jctconv\n",
    "import emoji\n",
    "import re"
   ]
  },
  {
   "cell_type": "code",
   "execution_count": 2,
   "metadata": {},
   "outputs": [
    {
     "name": "stdout",
     "output_type": "stream",
     "text": [
      " ドライブ C のボリューム ラベルがありません。\n",
      " ボリューム シリアル番号は 8A01-D063 です\n",
      "\n",
      " C:\\Users\\yasup のディレクトリ\n",
      "\n",
      "2021/04/20  18:52    <DIR>          .\n",
      "2021/04/20  18:52    <DIR>          ..\n",
      "2019/08/09  00:42    <DIR>          .anaconda\n",
      "2019/10/18  20:32    <DIR>          .astropy\n",
      "2020/03/17  23:18             1,567 .bash_history\n",
      "2019/05/02  14:05    <DIR>          .cache\n",
      "2021/04/19  20:28    <DIR>          .conda\n",
      "2021/04/19  18:45                43 .condarc\n",
      "2021/03/03  20:21    <DIR>          .cookiecutters\n",
      "2019/12/17  23:49                52 .gitconfig\n",
      "2019/08/08  23:31    <DIR>          .idlerc\n",
      "2021/04/19  18:38    <DIR>          .ipynb_checkpoints\n",
      "2019/09/13  19:24    <DIR>          .ipython\n",
      "2019/09/13  19:24    <DIR>          .jupyter\n",
      "2019/12/10  23:29    <DIR>          .keras\n",
      "2019/12/13  18:45    <DIR>          .matplotlib\n",
      "2019/06/16  23:05    <DIR>          .Origin\n",
      "2019/10/06  23:11    <DIR>          .PyCharmCE2019.2\n",
      "2021/04/18  12:36    <DIR>          .pylint.d\n",
      "2020/12/30  11:43                12 .python_history\n",
      "2019/06/16  23:05    <DIR>          .QtWebEngineProcess\n",
      "2019/10/08  22:53    <DIR>          .spyder-py3\n",
      "2019/09/21  19:47    <DIR>          .ssh\n",
      "2019/04/27  21:11               207 .swfinfo\n",
      "2020/03/05  21:00    <DIR>          .vscode\n",
      "2021/02/01  20:56    <DIR>          3D Objects\n",
      "2021/04/18  18:40       188,291,435 all_rakuma.csv\n",
      "2020/12/30  11:54    <DIR>          Anaconda3\n",
      "2019/05/26  23:48    <DIR>          ansel\n",
      "2019/12/15  10:02    <DIR>          Apple\n",
      "2021/04/13  19:50    <DIR>          blogproject\n",
      "2019/12/17  21:58    <DIR>          cache\n",
      "2021/02/01  20:56    <DIR>          Contacts\n",
      "2021/04/21  21:02    <DIR>          Creative Cloud Files\n",
      "2020/10/21  20:16               106 debug.log\n",
      "2021/04/21  20:22    <DIR>          Desktop\n",
      "2020/03/24  22:42    <DIR>          djangogirls\n",
      "2019/04/27  19:55    <DIR>          Documents\n",
      "2019/04/27  19:55    <DIR>          Downloads\n",
      "2020/11/24  18:49    <DIR>          Dropbox\n",
      "2021/02/01  20:56    <DIR>          Favorites\n",
      "2021/04/11  12:42    <DIR>          helloworldproject\n",
      "2021/04/19  18:49             1,530 idx2category.csv\n",
      "2020/03/26  21:39             2,221 im2.py\n",
      "2019/04/27  17:34    <DIR>          Intel\n",
      "2019/12/16  20:39    <DIR>          introduction_to_ml_with_python\n",
      "2020/10/21  21:48             4,750 iris.csv\n",
      "2021/01/08  19:20    <DIR>          JPKI\n",
      "2021/02/01  20:56    <DIR>          Links\n",
      "2020/04/07  21:18           169,687 matplotlib.ipynb\n",
      "2019/04/27  19:55    <DIR>          Music\n",
      "2021/04/12  19:58    <DIR>          OneDrive\n",
      "2019/04/27  19:55    <DIR>          Pictures\n",
      "2019/12/16  00:56    <DIR>          PycharmProjects\n",
      "2021/04/20  18:23            34,294 rakuma_NLPr.ipynb\n",
      "2021/04/20  18:52            41,211 ramuma_NLP.ipynb\n",
      "2021/04/19  18:49       579,303,854 rdmf.pickle\n",
      "2021/04/20  18:50                 0 rdmg.pickle\n",
      "2021/02/01  20:56    <DIR>          Saved Games\n",
      "2020/10/21  22:11           512,095 scikit-learn.ipynb\n",
      "2020/08/25  20:30             1,460 scraping.ipynb\n",
      "2021/02/01  20:56    <DIR>          Searches\n",
      "2020/11/18  20:54               555 sklearn.ipynb\n",
      "2020/04/15  10:15                 0 Sti_Trace.log\n",
      "2020/05/28  22:25           804,133 sumo.ipynb\n",
      "2020/05/26  21:14           826,772 suumo.csv\n",
      "2020/01/15  20:25               345 tmp\n",
      "2020/01/15  21:16             2,455 tree.dot\n",
      "2021/04/18  18:55             5,245 Untitled.ipynb\n",
      "2020/08/25  20:26                72 Untitled1.ipynb\n",
      "2021/04/21  21:01    <DIR>          Videos\n",
      "              25 個のファイル         770,004,101 バイト\n",
      "              46 個のディレクトリ  99,786,182,656 バイトの空き領域\n"
     ]
    }
   ],
   "source": [
    "ls"
   ]
  },
  {
   "cell_type": "code",
   "execution_count": 3,
   "metadata": {},
   "outputs": [],
   "source": [
    "df=pd.read_csv('all_rakuma.csv')"
   ]
  },
  {
   "cell_type": "code",
   "execution_count": 4,
   "metadata": {},
   "outputs": [
    {
     "data": {
      "text/html": [
       "<div>\n",
       "<style scoped>\n",
       "    .dataframe tbody tr th:only-of-type {\n",
       "        vertical-align: middle;\n",
       "    }\n",
       "\n",
       "    .dataframe tbody tr th {\n",
       "        vertical-align: top;\n",
       "    }\n",
       "\n",
       "    .dataframe thead th {\n",
       "        text-align: right;\n",
       "    }\n",
       "</style>\n",
       "<table border=\"1\" class=\"dataframe\">\n",
       "  <thead>\n",
       "    <tr style=\"text-align: right;\">\n",
       "      <th></th>\n",
       "      <th>date</th>\n",
       "      <th>item_url</th>\n",
       "      <th>title</th>\n",
       "      <th>price</th>\n",
       "      <th>brand</th>\n",
       "      <th>category</th>\n",
       "      <th>good</th>\n",
       "      <th>bad</th>\n",
       "      <th>normal</th>\n",
       "      <th>ship_days</th>\n",
       "      <th>comments</th>\n",
       "      <th>last_log_date</th>\n",
       "      <th>good_counts</th>\n",
       "      <th>prefecture</th>\n",
       "      <th>delivery_fee</th>\n",
       "      <th>seller_url</th>\n",
       "      <th>size</th>\n",
       "      <th>picture_url</th>\n",
       "      <th>description</th>\n",
       "      <th>details_dict</th>\n",
       "    </tr>\n",
       "  </thead>\n",
       "  <tbody>\n",
       "    <tr>\n",
       "      <th>0</th>\n",
       "      <td>2019/10/08 23:39:51</td>\n",
       "      <td>https://item.fril.jp/055f4080a2a0ae275db6ba7be...</td>\n",
       "      <td>Epiphone LTD Korina Explorer Bass</td>\n",
       "      <td>40000</td>\n",
       "      <td>Epiphone</td>\n",
       "      <td>楽器 &gt; ベース &gt; エレキベース</td>\n",
       "      <td>109</td>\n",
       "      <td>0</td>\n",
       "      <td>0</td>\n",
       "      <td>1-2日後</td>\n",
       "      <td>NaN</td>\n",
       "      <td>2000-01-01</td>\n",
       "      <td>0</td>\n",
       "      <td>岐阜県</td>\n",
       "      <td>着払い</td>\n",
       "      <td>https://fril.jp/shop/42df208014145c438f96e01f5...</td>\n",
       "      <td>なし</td>\n",
       "      <td>https://img.fril.jp/img/259586636/l/734809353....</td>\n",
       "      <td>コリーナボディ ブラックピックガード ゴールドパーツの豪華なエクスプローラー コリーナ ...</td>\n",
       "      <td>{'カテゴリ': '楽器›ベース›エレキベース', 'サイズ': 'なし', 'ブランド':...</td>\n",
       "    </tr>\n",
       "    <tr>\n",
       "      <th>1</th>\n",
       "      <td>2019/10/08 23:39:51</td>\n",
       "      <td>https://item.fril.jp/896a1d0197d05cf8431c136d9...</td>\n",
       "      <td>TVB-100 (SUN)</td>\n",
       "      <td>38000</td>\n",
       "      <td>Electric Bass(R)</td>\n",
       "      <td>楽器 &gt; ベース &gt; エレキベース</td>\n",
       "      <td>8</td>\n",
       "      <td>0</td>\n",
       "      <td>0</td>\n",
       "      <td>1-2日後</td>\n",
       "      <td>['TOKYO GUITARS', '本モデルを含め、TOKYO GUITARS工房にて製造...</td>\n",
       "      <td>2019/08/31</td>\n",
       "      <td>0</td>\n",
       "      <td>東京都</td>\n",
       "      <td>送料込</td>\n",
       "      <td>https://fril.jp/shop/bb898547c8e0369f5f6621cce...</td>\n",
       "      <td>なし</td>\n",
       "      <td>https://img.fril.jp/img/223532100/l/635334018....</td>\n",
       "      <td>Tokyo Guitars モデル名 TVB 100  SUN   Tokyo Cust...</td>\n",
       "      <td>{'カテゴリ': '楽器›ベース›エレキベース', 'サイズ': 'なし', '商品の状態'...</td>\n",
       "    </tr>\n",
       "    <tr>\n",
       "      <th>2</th>\n",
       "      <td>2019/10/08 23:39:51</td>\n",
       "      <td>https://item.fril.jp/6bdb6b4dd0f6c518938b94ec2...</td>\n",
       "      <td>TRB-4000 (BL)</td>\n",
       "      <td>42000</td>\n",
       "      <td>Electric Bass(R)</td>\n",
       "      <td>楽器 &gt; ベース &gt; エレキベース</td>\n",
       "      <td>8</td>\n",
       "      <td>0</td>\n",
       "      <td>0</td>\n",
       "      <td>1-2日後</td>\n",
       "      <td>NaN</td>\n",
       "      <td>2000-01-01</td>\n",
       "      <td>0</td>\n",
       "      <td>東京都</td>\n",
       "      <td>送料込</td>\n",
       "      <td>https://fril.jp/shop/bb898547c8e0369f5f6621cce...</td>\n",
       "      <td>なし</td>\n",
       "      <td>https://img.fril.jp/img/223294381/l/634674588....</td>\n",
       "      <td>Tokyo Guitars モデル名 TRB 4000  BL   Tokyo Cust...</td>\n",
       "      <td>{'カテゴリ': '楽器›ベース›エレキベース', 'サイズ': 'なし', '商品の状態'...</td>\n",
       "    </tr>\n",
       "    <tr>\n",
       "      <th>3</th>\n",
       "      <td>2019/10/08 23:39:51</td>\n",
       "      <td>https://item.fril.jp/b89c82258515163e5aa36aa48...</td>\n",
       "      <td>TRB-4000 (FG)</td>\n",
       "      <td>42000</td>\n",
       "      <td>Electric Bass(R)</td>\n",
       "      <td>楽器 &gt; ベース &gt; エレキベース</td>\n",
       "      <td>8</td>\n",
       "      <td>0</td>\n",
       "      <td>0</td>\n",
       "      <td>1-2日後</td>\n",
       "      <td>NaN</td>\n",
       "      <td>2000-01-01</td>\n",
       "      <td>0</td>\n",
       "      <td>東京都</td>\n",
       "      <td>送料込</td>\n",
       "      <td>https://fril.jp/shop/bb898547c8e0369f5f6621cce...</td>\n",
       "      <td>なし</td>\n",
       "      <td>https://img.fril.jp/img/223294160/l/634673947....</td>\n",
       "      <td>Tokyo Guitars モデル名 TRB 4000  FG   Tokyo Cust...</td>\n",
       "      <td>{'カテゴリ': '楽器›ベース›エレキベース', 'サイズ': 'なし', '商品の状態'...</td>\n",
       "    </tr>\n",
       "    <tr>\n",
       "      <th>4</th>\n",
       "      <td>2019/10/08 23:39:51</td>\n",
       "      <td>https://item.fril.jp/cf904ef67c6cec09a7465e7f4...</td>\n",
       "      <td>TB-100 (BRWN)</td>\n",
       "      <td>42000</td>\n",
       "      <td>Electric Bass(R)</td>\n",
       "      <td>楽器 &gt; ベース &gt; エレキベース</td>\n",
       "      <td>8</td>\n",
       "      <td>0</td>\n",
       "      <td>0</td>\n",
       "      <td>1-2日後</td>\n",
       "      <td>NaN</td>\n",
       "      <td>2000-01-01</td>\n",
       "      <td>0</td>\n",
       "      <td>東京都</td>\n",
       "      <td>送料込</td>\n",
       "      <td>https://fril.jp/shop/bb898547c8e0369f5f6621cce...</td>\n",
       "      <td>なし</td>\n",
       "      <td>https://img.fril.jp/img/216145047/l/614817207....</td>\n",
       "      <td>Tokyo Guitars モデル名 TB 100  BRWN   Tokyo Guit...</td>\n",
       "      <td>{'カテゴリ': '楽器›ベース›エレキベース', 'サイズ': 'なし', '商品の状態'...</td>\n",
       "    </tr>\n",
       "  </tbody>\n",
       "</table>\n",
       "</div>"
      ],
      "text/plain": [
       "                  date                                           item_url  \\\n",
       "0  2019/10/08 23:39:51  https://item.fril.jp/055f4080a2a0ae275db6ba7be...   \n",
       "1  2019/10/08 23:39:51  https://item.fril.jp/896a1d0197d05cf8431c136d9...   \n",
       "2  2019/10/08 23:39:51  https://item.fril.jp/6bdb6b4dd0f6c518938b94ec2...   \n",
       "3  2019/10/08 23:39:51  https://item.fril.jp/b89c82258515163e5aa36aa48...   \n",
       "4  2019/10/08 23:39:51  https://item.fril.jp/cf904ef67c6cec09a7465e7f4...   \n",
       "\n",
       "                               title  price             brand  \\\n",
       "0  Epiphone LTD Korina Explorer Bass  40000          Epiphone   \n",
       "1                      TVB-100 (SUN)  38000  Electric Bass(R)   \n",
       "2                      TRB-4000 (BL)  42000  Electric Bass(R)   \n",
       "3                      TRB-4000 (FG)  42000  Electric Bass(R)   \n",
       "4                      TB-100 (BRWN)  42000  Electric Bass(R)   \n",
       "\n",
       "            category  good  bad  normal ship_days  \\\n",
       "0  楽器 > ベース > エレキベース   109    0       0     1-2日後   \n",
       "1  楽器 > ベース > エレキベース     8    0       0     1-2日後   \n",
       "2  楽器 > ベース > エレキベース     8    0       0     1-2日後   \n",
       "3  楽器 > ベース > エレキベース     8    0       0     1-2日後   \n",
       "4  楽器 > ベース > エレキベース     8    0       0     1-2日後   \n",
       "\n",
       "                                            comments last_log_date  \\\n",
       "0                                                NaN    2000-01-01   \n",
       "1  ['TOKYO GUITARS', '本モデルを含め、TOKYO GUITARS工房にて製造...    2019/08/31   \n",
       "2                                                NaN    2000-01-01   \n",
       "3                                                NaN    2000-01-01   \n",
       "4                                                NaN    2000-01-01   \n",
       "\n",
       "   good_counts prefecture delivery_fee  \\\n",
       "0            0        岐阜県          着払い   \n",
       "1            0        東京都          送料込   \n",
       "2            0        東京都          送料込   \n",
       "3            0        東京都          送料込   \n",
       "4            0        東京都          送料込   \n",
       "\n",
       "                                          seller_url size  \\\n",
       "0  https://fril.jp/shop/42df208014145c438f96e01f5...   なし   \n",
       "1  https://fril.jp/shop/bb898547c8e0369f5f6621cce...   なし   \n",
       "2  https://fril.jp/shop/bb898547c8e0369f5f6621cce...   なし   \n",
       "3  https://fril.jp/shop/bb898547c8e0369f5f6621cce...   なし   \n",
       "4  https://fril.jp/shop/bb898547c8e0369f5f6621cce...   なし   \n",
       "\n",
       "                                         picture_url  \\\n",
       "0  https://img.fril.jp/img/259586636/l/734809353....   \n",
       "1  https://img.fril.jp/img/223532100/l/635334018....   \n",
       "2  https://img.fril.jp/img/223294381/l/634674588....   \n",
       "3  https://img.fril.jp/img/223294160/l/634673947....   \n",
       "4  https://img.fril.jp/img/216145047/l/614817207....   \n",
       "\n",
       "                                         description  \\\n",
       "0    コリーナボディ ブラックピックガード ゴールドパーツの豪華なエクスプローラー コリーナ ...   \n",
       "1    Tokyo Guitars モデル名 TVB 100  SUN   Tokyo Cust...   \n",
       "2    Tokyo Guitars モデル名 TRB 4000  BL   Tokyo Cust...   \n",
       "3    Tokyo Guitars モデル名 TRB 4000  FG   Tokyo Cust...   \n",
       "4    Tokyo Guitars モデル名 TB 100  BRWN   Tokyo Guit...   \n",
       "\n",
       "                                        details_dict  \n",
       "0  {'カテゴリ': '楽器›ベース›エレキベース', 'サイズ': 'なし', 'ブランド':...  \n",
       "1  {'カテゴリ': '楽器›ベース›エレキベース', 'サイズ': 'なし', '商品の状態'...  \n",
       "2  {'カテゴリ': '楽器›ベース›エレキベース', 'サイズ': 'なし', '商品の状態'...  \n",
       "3  {'カテゴリ': '楽器›ベース›エレキベース', 'サイズ': 'なし', '商品の状態'...  \n",
       "4  {'カテゴリ': '楽器›ベース›エレキベース', 'サイズ': 'なし', '商品の状態'...  "
      ]
     },
     "execution_count": 4,
     "metadata": {},
     "output_type": "execute_result"
    }
   ],
   "source": [
    "df.head()"
   ]
  },
  {
   "cell_type": "code",
   "execution_count": 5,
   "metadata": {},
   "outputs": [
    {
     "data": {
      "text/plain": [
       "122070"
      ]
     },
     "execution_count": 5,
     "metadata": {},
     "output_type": "execute_result"
    }
   ],
   "source": [
    "len(df)"
   ]
  },
  {
   "cell_type": "code",
   "execution_count": 6,
   "metadata": {},
   "outputs": [],
   "source": [
    "ctg_df=df.category.value_counts().reset_index()"
   ]
  },
  {
   "cell_type": "code",
   "execution_count": 7,
   "metadata": {},
   "outputs": [],
   "source": [
    "over1000_data=ctg_df[ctg_df.category>1000]"
   ]
  },
  {
   "cell_type": "code",
   "execution_count": 8,
   "metadata": {},
   "outputs": [
    {
     "data": {
      "text/plain": [
       "63006"
      ]
     },
     "execution_count": 8,
     "metadata": {},
     "output_type": "execute_result"
    }
   ],
   "source": [
    "over1000_data.category.sum()"
   ]
  },
  {
   "cell_type": "code",
   "execution_count": 9,
   "metadata": {},
   "outputs": [
    {
     "data": {
      "text/html": [
       "<div>\n",
       "<style scoped>\n",
       "    .dataframe tbody tr th:only-of-type {\n",
       "        vertical-align: middle;\n",
       "    }\n",
       "\n",
       "    .dataframe tbody tr th {\n",
       "        vertical-align: top;\n",
       "    }\n",
       "\n",
       "    .dataframe thead th {\n",
       "        text-align: right;\n",
       "    }\n",
       "</style>\n",
       "<table border=\"1\" class=\"dataframe\">\n",
       "  <thead>\n",
       "    <tr style=\"text-align: right;\">\n",
       "      <th></th>\n",
       "      <th>index</th>\n",
       "    </tr>\n",
       "  </thead>\n",
       "  <tbody>\n",
       "    <tr>\n",
       "      <th>0</th>\n",
       "      <td>メンズ &gt; 靴/シューズ &gt; スニーカー</td>\n",
       "    </tr>\n",
       "    <tr>\n",
       "      <th>1</th>\n",
       "      <td>エンタメ/ホビー &gt; おもちゃ/ぬいぐるみ &gt; キャラクターグッズ</td>\n",
       "    </tr>\n",
       "    <tr>\n",
       "      <th>2</th>\n",
       "      <td>エンタメ/ホビー &gt; フィギュア &gt; アニメ/ゲーム</td>\n",
       "    </tr>\n",
       "    <tr>\n",
       "      <th>3</th>\n",
       "      <td>エンタメ/ホビー &gt; CD &gt; ポップス/ロック(洋楽)</td>\n",
       "    </tr>\n",
       "    <tr>\n",
       "      <th>4</th>\n",
       "      <td>エンタメ/ホビー &gt; フィギュア &gt; 特撮</td>\n",
       "    </tr>\n",
       "    <tr>\n",
       "      <th>5</th>\n",
       "      <td>エンタメ/ホビー &gt; 美術品/アンティーク &gt; 絵画/タペストリー</td>\n",
       "    </tr>\n",
       "    <tr>\n",
       "      <th>6</th>\n",
       "      <td>スポーツ/アウトドア &gt; フィッシング &gt; ルアー用品</td>\n",
       "    </tr>\n",
       "    <tr>\n",
       "      <th>7</th>\n",
       "      <td>エンタメ/ホビー &gt; トレーディングカード &gt; シングルカード</td>\n",
       "    </tr>\n",
       "    <tr>\n",
       "      <th>8</th>\n",
       "      <td>エンタメ/ホビー &gt; おもちゃ/ぬいぐるみ &gt; ミニカー</td>\n",
       "    </tr>\n",
       "    <tr>\n",
       "      <th>9</th>\n",
       "      <td>エンタメ/ホビー &gt; CD &gt; アニメ</td>\n",
       "    </tr>\n",
       "    <tr>\n",
       "      <th>10</th>\n",
       "      <td>スマホ/家電/カメラ &gt; オーディオ機器 &gt; ヘッドフォン/イヤフォン</td>\n",
       "    </tr>\n",
       "    <tr>\n",
       "      <th>11</th>\n",
       "      <td>エンタメ/ホビー &gt; おもちゃ/ぬいぐるみ &gt; ぬいぐるみ</td>\n",
       "    </tr>\n",
       "    <tr>\n",
       "      <th>12</th>\n",
       "      <td>エンタメ/ホビー &gt; おもちゃ/ぬいぐるみ &gt; 模型/プラモデル</td>\n",
       "    </tr>\n",
       "    <tr>\n",
       "      <th>13</th>\n",
       "      <td>エンタメ/ホビー &gt; テレビゲーム &gt; 家庭用ゲームソフト</td>\n",
       "    </tr>\n",
       "    <tr>\n",
       "      <th>14</th>\n",
       "      <td>レディース &gt; ワンピース &gt; ひざ丈ワンピース</td>\n",
       "    </tr>\n",
       "    <tr>\n",
       "      <th>15</th>\n",
       "      <td>エンタメ/ホビー &gt; CD &gt; ポップス/ロック(邦楽)</td>\n",
       "    </tr>\n",
       "    <tr>\n",
       "      <th>16</th>\n",
       "      <td>楽器 &gt; ギター &gt; エレキギター</td>\n",
       "    </tr>\n",
       "    <tr>\n",
       "      <th>17</th>\n",
       "      <td>エンタメ/ホビー &gt; アニメグッズ &gt; その他</td>\n",
       "    </tr>\n",
       "    <tr>\n",
       "      <th>18</th>\n",
       "      <td>エンタメ/ホビー &gt; エンタメその他 &gt; その他</td>\n",
       "    </tr>\n",
       "    <tr>\n",
       "      <th>19</th>\n",
       "      <td>メンズ &gt; トップス &gt; Tシャツ/カットソー(半袖/袖なし)</td>\n",
       "    </tr>\n",
       "    <tr>\n",
       "      <th>20</th>\n",
       "      <td>インテリア/住まい/日用品 &gt; 文房具 &gt; ペン/マーカー</td>\n",
       "    </tr>\n",
       "    <tr>\n",
       "      <th>21</th>\n",
       "      <td>エンタメ/ホビー &gt; テレビゲーム &gt; 家庭用ゲーム本体</td>\n",
       "    </tr>\n",
       "  </tbody>\n",
       "</table>\n",
       "</div>"
      ],
      "text/plain": [
       "                                  index\n",
       "0                  メンズ > 靴/シューズ > スニーカー\n",
       "1     エンタメ/ホビー > おもちゃ/ぬいぐるみ > キャラクターグッズ\n",
       "2            エンタメ/ホビー > フィギュア > アニメ/ゲーム\n",
       "3          エンタメ/ホビー > CD > ポップス/ロック(洋楽)\n",
       "4                 エンタメ/ホビー > フィギュア > 特撮\n",
       "5     エンタメ/ホビー > 美術品/アンティーク > 絵画/タペストリー\n",
       "6           スポーツ/アウトドア > フィッシング > ルアー用品\n",
       "7       エンタメ/ホビー > トレーディングカード > シングルカード\n",
       "8          エンタメ/ホビー > おもちゃ/ぬいぐるみ > ミニカー\n",
       "9                   エンタメ/ホビー > CD > アニメ\n",
       "10  スマホ/家電/カメラ > オーディオ機器 > ヘッドフォン/イヤフォン\n",
       "11        エンタメ/ホビー > おもちゃ/ぬいぐるみ > ぬいぐるみ\n",
       "12     エンタメ/ホビー > おもちゃ/ぬいぐるみ > 模型/プラモデル\n",
       "13        エンタメ/ホビー > テレビゲーム > 家庭用ゲームソフト\n",
       "14             レディース > ワンピース > ひざ丈ワンピース\n",
       "15         エンタメ/ホビー > CD > ポップス/ロック(邦楽)\n",
       "16                    楽器 > ギター > エレキギター\n",
       "17              エンタメ/ホビー > アニメグッズ > その他\n",
       "18             エンタメ/ホビー > エンタメその他 > その他\n",
       "19      メンズ > トップス > Tシャツ/カットソー(半袖/袖なし)\n",
       "20        インテリア/住まい/日用品 > 文房具 > ペン/マーカー\n",
       "21         エンタメ/ホビー > テレビゲーム > 家庭用ゲーム本体"
      ]
     },
     "execution_count": 9,
     "metadata": {},
     "output_type": "execute_result"
    }
   ],
   "source": [
    "over1000_data[[\"index\"]]"
   ]
  },
  {
   "cell_type": "code",
   "execution_count": 10,
   "metadata": {},
   "outputs": [],
   "source": [
    "data=df.merge(over1000_data[[\"index\"]],left_on=\"category\",right_on='index')"
   ]
  },
  {
   "cell_type": "code",
   "execution_count": 11,
   "metadata": {},
   "outputs": [
    {
     "data": {
      "text/plain": [
       "メンズ > 靴/シューズ > スニーカー                   11199\n",
       "エンタメ/ホビー > おもちゃ/ぬいぐるみ > キャラクターグッズ      10956\n",
       "エンタメ/ホビー > フィギュア > アニメ/ゲーム              6614\n",
       "エンタメ/ホビー > CD > ポップス/ロック(洋楽)            3564\n",
       "エンタメ/ホビー > フィギュア > 特撮                   3146\n",
       "エンタメ/ホビー > 美術品/アンティーク > 絵画/タペストリー       2780\n",
       "スポーツ/アウトドア > フィッシング > ルアー用品             2562\n",
       "エンタメ/ホビー > トレーディングカード > シングルカード         2521\n",
       "エンタメ/ホビー > おもちゃ/ぬいぐるみ > ミニカー            2162\n",
       "エンタメ/ホビー > CD > アニメ                     2020\n",
       "スマホ/家電/カメラ > オーディオ機器 > ヘッドフォン/イヤフォン     1553\n",
       "エンタメ/ホビー > おもちゃ/ぬいぐるみ > ぬいぐるみ           1463\n",
       "エンタメ/ホビー > おもちゃ/ぬいぐるみ > 模型/プラモデル        1460\n",
       "エンタメ/ホビー > テレビゲーム > 家庭用ゲームソフト           1351\n",
       "レディース > ワンピース > ひざ丈ワンピース                1328\n",
       "楽器 > ギター > エレキギター                       1270\n",
       "エンタメ/ホビー > CD > ポップス/ロック(邦楽)            1270\n",
       "エンタメ/ホビー > アニメグッズ > その他                 1252\n",
       "エンタメ/ホビー > エンタメその他 > その他                1200\n",
       "メンズ > トップス > Tシャツ/カットソー(半袖/袖なし)         1181\n",
       "インテリア/住まい/日用品 > 文房具 > ペン/マーカー           1121\n",
       "エンタメ/ホビー > テレビゲーム > 家庭用ゲーム本体            1033\n",
       "Name: category, dtype: int64"
      ]
     },
     "execution_count": 11,
     "metadata": {},
     "output_type": "execute_result"
    }
   ],
   "source": [
    "data.category.value_counts()"
   ]
  },
  {
   "cell_type": "code",
   "execution_count": 12,
   "metadata": {},
   "outputs": [
    {
     "ename": "NameError",
     "evalue": "name 'clean_txt' is not defined",
     "output_type": "error",
     "traceback": [
      "\u001b[1;31m---------------------------------------------------------------------------\u001b[0m",
      "\u001b[1;31mNameError\u001b[0m                                 Traceback (most recent call last)",
      "\u001b[1;32m<ipython-input-12-0c51fb8ecb79>\u001b[0m in \u001b[0;36m<module>\u001b[1;34m\u001b[0m\n\u001b[1;32m----> 1\u001b[1;33m \u001b[0mdata\u001b[0m\u001b[1;33m[\u001b[0m\u001b[1;34m\"clean_title\"\u001b[0m\u001b[1;33m]\u001b[0m \u001b[1;33m=\u001b[0m \u001b[0mdata\u001b[0m\u001b[1;33m.\u001b[0m\u001b[0mtitle\u001b[0m\u001b[1;33m.\u001b[0m\u001b[0mapply\u001b[0m\u001b[1;33m(\u001b[0m\u001b[0mclean_txt\u001b[0m\u001b[1;33m)\u001b[0m\u001b[1;33m\u001b[0m\u001b[1;33m\u001b[0m\u001b[0m\n\u001b[0m",
      "\u001b[1;31mNameError\u001b[0m: name 'clean_txt' is not defined"
     ]
    }
   ],
   "source": [
    "data[\"clean_title\"] = data.title.apply(clean_txt)"
   ]
  },
  {
   "cell_type": "code",
   "execution_count": 13,
   "metadata": {},
   "outputs": [],
   "source": [
    "emojis = \"\".join(emoji.UNICODE_EMOJI.keys())"
   ]
  },
  {
   "cell_type": "code",
   "execution_count": 14,
   "metadata": {},
   "outputs": [],
   "source": [
    "puncs = string.punctuation + \"◆▼★②●☆■★【】『』「」、♪\""
   ]
  },
  {
   "cell_type": "code",
   "execution_count": 15,
   "metadata": {},
   "outputs": [],
   "source": [
    "def han2zen(txt):\n",
    "    txt = jctconv.h2z(txt, kana=True, digit=False, ascii=False)\n",
    "    return jctconv.z2h(txt, kana=False, digit=True, ascii=True)\n",
    "\n",
    "def remove_signs(txt):\n",
    "    rm_signs = emojis + puncs\n",
    "    for s in rm_signs:\n",
    "        txt = txt.replace(s, \" \")\n",
    "    return txt\n",
    "\n",
    "def clean_txt(txt):\n",
    "    txt = han2zen(txt)\n",
    "    txt = remove_signs(txt)\n",
    "    txt_list = txt.upper().split()\n",
    "    txt_list = [x for x in txt_list if len(x) > 1 and re.search(r\"[亜-熙ぁ-んァ-ヶa-zA-Z]\", x)]\n",
    "    return \" \".join(list(Counter(txt_list)))"
   ]
  },
  {
   "cell_type": "code",
   "execution_count": 16,
   "metadata": {},
   "outputs": [
    {
     "data": {
      "text/plain": [
       "0           テレカ 未使用品 仮面ライダー 生誕20周年 東映ビデオ販売 販促用非売品\n",
       "1           送料無料 新品 DVD Perfume WORLD TOUR 1st 初回\n",
       "2                          ☆ウルトラマン☆レーザーディスク ジャンク？\n",
       "3             MAISHA （マイシャ）Sadao Watanabe　渡辺貞夫★LD\n",
       "4        LD★PARKER'S MOOD（パーカーズ・ムード）LIVE AT BRAVA\n",
       "                           ...                   \n",
       "63001                                   64 マリオテニス\n",
       "63002    ☆非売品☆switch ポケットモンスター ポケモンカードバトル クリアファイル\n",
       "63003    【新品未開封】大乱闘スマッシュブラザーズ SPECIAL（クロスクリーナー付き）\n",
       "63004    【新品未開封】大乱闘スマッシュブラザーズ SPECIAL（クロスクリーナー付き）\n",
       "63005    【新品未開封】大乱闘スマッシュブラザーズ SPECIAL（クロスクリーナー付き）\n",
       "Name: title, Length: 63006, dtype: object"
      ]
     },
     "execution_count": 16,
     "metadata": {},
     "output_type": "execute_result"
    }
   ],
   "source": [
    "data.title"
   ]
  },
  {
   "cell_type": "code",
   "execution_count": 17,
   "metadata": {},
   "outputs": [],
   "source": [
    "data[\"clean_title\"] = data.title.apply(clean_txt)"
   ]
  },
  {
   "cell_type": "code",
   "execution_count": 18,
   "metadata": {},
   "outputs": [],
   "source": [
    "from sklearn.pipeline import Pipeline\n",
    "from sklearn.metrics import classification_report\n",
    "from sklearn.model_selection import train_test_split\n",
    "\n",
    "from sklearn.feature_extraction.text import CountVectorizer,TfidfTransformer\n",
    "from sklearn.ensemble import RandomForestClassifier\n",
    "from sklearn.naive_bayes import MultinomialNB"
   ]
  },
  {
   "cell_type": "code",
   "execution_count": 19,
   "metadata": {},
   "outputs": [],
   "source": [
    "category2idx={c:idx for idx,c in enumerate(data.category.unique())}\n",
    "idx2category={idx:c for idx,c in enumerate(data.category.unique())}"
   ]
  },
  {
   "cell_type": "code",
   "execution_count": 20,
   "metadata": {},
   "outputs": [],
   "source": [
    "X=data.clean_title\n",
    "y=data.category.apply(lambda x:category2idx[x])"
   ]
  },
  {
   "cell_type": "code",
   "execution_count": 21,
   "metadata": {},
   "outputs": [
    {
     "data": {
      "text/plain": [
       "0         0\n",
       "1         0\n",
       "2         0\n",
       "3         0\n",
       "4         0\n",
       "         ..\n",
       "63001    21\n",
       "63002    21\n",
       "63003    21\n",
       "63004    21\n",
       "63005    21\n",
       "Name: category, Length: 63006, dtype: int64"
      ]
     },
     "execution_count": 21,
     "metadata": {},
     "output_type": "execute_result"
    }
   ],
   "source": [
    "y"
   ]
  },
  {
   "cell_type": "code",
   "execution_count": 22,
   "metadata": {},
   "outputs": [],
   "source": [
    "X_train,X_test,y_train,y_test=train_test_split(X,y,test_size=0.33,random_state=42)"
   ]
  },
  {
   "cell_type": "code",
   "execution_count": 23,
   "metadata": {},
   "outputs": [],
   "source": [
    "pipeline=Pipeline([\n",
    "    (\"bow\",CountVectorizer()),\n",
    "    (\"tfidf\",TfidfTransformer()),\n",
    "    (\"classifier\",RandomForestClassifier())\n",
    "])"
   ]
  },
  {
   "cell_type": "code",
   "execution_count": 24,
   "metadata": {},
   "outputs": [
    {
     "data": {
      "text/plain": [
       "Pipeline(steps=[('bow', CountVectorizer()), ('tfidf', TfidfTransformer()),\n",
       "                ('classifier', RandomForestClassifier())])"
      ]
     },
     "execution_count": 24,
     "metadata": {},
     "output_type": "execute_result"
    }
   ],
   "source": [
    "pipeline.fit(X_train,y_train)"
   ]
  },
  {
   "cell_type": "code",
   "execution_count": 25,
   "metadata": {},
   "outputs": [],
   "source": [
    "pred=pipeline.predict(X_test)"
   ]
  },
  {
   "cell_type": "code",
   "execution_count": 26,
   "metadata": {},
   "outputs": [
    {
     "data": {
      "text/plain": [
       "array([ 9,  1, 10, ..., 20, 17, 17], dtype=int64)"
      ]
     },
     "execution_count": 26,
     "metadata": {},
     "output_type": "execute_result"
    }
   ],
   "source": [
    "pred"
   ]
  },
  {
   "cell_type": "code",
   "execution_count": 27,
   "metadata": {},
   "outputs": [
    {
     "data": {
      "text/plain": [
       "31783     9\n",
       "4148      1\n",
       "33072    10\n",
       "15727     4\n",
       "25029     6\n",
       "         ..\n",
       "17782     4\n",
       "21570     6\n",
       "60928    20\n",
       "49238    17\n",
       "59082    19\n",
       "Name: category, Length: 20792, dtype: int64"
      ]
     },
     "execution_count": 27,
     "metadata": {},
     "output_type": "execute_result"
    }
   ],
   "source": [
    "y_test"
   ]
  },
  {
   "cell_type": "code",
   "execution_count": null,
   "metadata": {},
   "outputs": [],
   "source": [
    "#RandomForestClassifier\n",
    "print(classification_report(y_test,pred))"
   ]
  },
  {
   "cell_type": "code",
   "execution_count": 28,
   "metadata": {},
   "outputs": [
    {
     "name": "stdout",
     "output_type": "stream",
     "text": [
      "              precision    recall  f1-score   support\n",
      "\n",
      "           0       0.84      0.67      0.74       406\n",
      "           1       0.88      0.93      0.90      1189\n",
      "           2       0.87      0.78      0.82       422\n",
      "           3       0.88      0.84      0.86       699\n",
      "           4       0.78      0.80      0.79      3577\n",
      "           5       0.69      0.36      0.48       395\n",
      "           6       0.86      0.83      0.85      2138\n",
      "           7       0.84      0.82      0.83      1033\n",
      "           8       0.89      0.87      0.88       460\n",
      "           9       0.94      0.85      0.89       379\n",
      "          10       0.98      0.86      0.92       871\n",
      "          11       0.77      0.60      0.68       481\n",
      "          12       0.87      0.75      0.81       430\n",
      "          13       0.91      0.79      0.85       399\n",
      "          14       0.98      0.96      0.97       535\n",
      "          15       0.93      0.91      0.92       830\n",
      "          16       0.85      0.81      0.83       396\n",
      "          17       0.79      0.99      0.88      3673\n",
      "          18       1.00      0.97      0.98       964\n",
      "          19       0.92      0.87      0.89       694\n",
      "          20       0.93      0.78      0.85       346\n",
      "          21       0.89      0.75      0.81       475\n",
      "\n",
      "    accuracy                           0.85     20792\n",
      "   macro avg       0.88      0.81      0.84     20792\n",
      "weighted avg       0.85      0.85      0.85     20792\n",
      "\n"
     ]
    }
   ],
   "source": [
    "#multiNB\n",
    "print(classification_report(y_test,pred))"
   ]
  },
  {
   "cell_type": "code",
   "execution_count": 29,
   "metadata": {},
   "outputs": [],
   "source": [
    "target=[\"\"]\n",
    "prediction=pipeline.predict(target)\n"
   ]
  },
  {
   "cell_type": "code",
   "execution_count": 30,
   "metadata": {},
   "outputs": [],
   "source": [
    "import pickle"
   ]
  },
  {
   "cell_type": "code",
   "execution_count": 31,
   "metadata": {},
   "outputs": [],
   "source": [
    "with open('rdmg.pickle',mode='wb') as f:\n",
    "    pickle.dump(pipeline,f)\n"
   ]
  },
  {
   "cell_type": "code",
   "execution_count": 32,
   "metadata": {},
   "outputs": [
    {
     "ename": "UnsupportedOperation",
     "evalue": "read",
     "output_type": "error",
     "traceback": [
      "\u001b[1;31m---------------------------------------------------------------------------\u001b[0m",
      "\u001b[1;31mUnsupportedOperation\u001b[0m                      Traceback (most recent call last)",
      "\u001b[1;32m<ipython-input-32-c2afdac69f3e>\u001b[0m in \u001b[0;36m<module>\u001b[1;34m\u001b[0m\n\u001b[0;32m      1\u001b[0m \u001b[1;32mwith\u001b[0m \u001b[0mopen\u001b[0m\u001b[1;33m(\u001b[0m\u001b[1;34m'rdmg.pickle'\u001b[0m\u001b[1;33m,\u001b[0m\u001b[0mmode\u001b[0m\u001b[1;33m=\u001b[0m\u001b[1;34m'wb'\u001b[0m\u001b[1;33m)\u001b[0m \u001b[1;32mas\u001b[0m \u001b[0mff\u001b[0m\u001b[1;33m:\u001b[0m\u001b[1;33m\u001b[0m\u001b[1;33m\u001b[0m\u001b[0m\n\u001b[1;32m----> 2\u001b[1;33m     \u001b[0mmodel\u001b[0m\u001b[1;33m=\u001b[0m\u001b[0mpickle\u001b[0m\u001b[1;33m.\u001b[0m\u001b[0mload\u001b[0m\u001b[1;33m(\u001b[0m\u001b[0mff\u001b[0m\u001b[1;33m)\u001b[0m\u001b[1;33m\u001b[0m\u001b[1;33m\u001b[0m\u001b[0m\n\u001b[0m",
      "\u001b[1;31mUnsupportedOperation\u001b[0m: read"
     ]
    }
   ],
   "source": [
    "with open('rdmg.pickle',mode='wb') as ff:\n",
    "    model=pickle.load(ff)"
   ]
  },
  {
   "cell_type": "code",
   "execution_count": 34,
   "metadata": {},
   "outputs": [
    {
     "data": {
      "text/html": [
       "<div>\n",
       "<style scoped>\n",
       "    .dataframe tbody tr th:only-of-type {\n",
       "        vertical-align: middle;\n",
       "    }\n",
       "\n",
       "    .dataframe tbody tr th {\n",
       "        vertical-align: top;\n",
       "    }\n",
       "\n",
       "    .dataframe thead th {\n",
       "        text-align: right;\n",
       "    }\n",
       "</style>\n",
       "<table border=\"1\" class=\"dataframe\">\n",
       "  <thead>\n",
       "    <tr style=\"text-align: right;\">\n",
       "      <th></th>\n",
       "      <th>k</th>\n",
       "      <th>v</th>\n",
       "    </tr>\n",
       "  </thead>\n",
       "  <tbody>\n",
       "    <tr>\n",
       "      <th>0</th>\n",
       "      <td>0</td>\n",
       "      <td>エンタメ/ホビー &gt; エンタメその他 &gt; その他</td>\n",
       "    </tr>\n",
       "    <tr>\n",
       "      <th>1</th>\n",
       "      <td>1</td>\n",
       "      <td>エンタメ/ホビー &gt; CD &gt; ポップス/ロック(洋楽)</td>\n",
       "    </tr>\n",
       "    <tr>\n",
       "      <th>2</th>\n",
       "      <td>2</td>\n",
       "      <td>エンタメ/ホビー &gt; CD &gt; ポップス/ロック(邦楽)</td>\n",
       "    </tr>\n",
       "    <tr>\n",
       "      <th>3</th>\n",
       "      <td>3</td>\n",
       "      <td>エンタメ/ホビー &gt; CD &gt; アニメ</td>\n",
       "    </tr>\n",
       "    <tr>\n",
       "      <th>4</th>\n",
       "      <td>4</td>\n",
       "      <td>エンタメ/ホビー &gt; おもちゃ/ぬいぐるみ &gt; キャラクターグッズ</td>\n",
       "    </tr>\n",
       "    <tr>\n",
       "      <th>5</th>\n",
       "      <td>5</td>\n",
       "      <td>エンタメ/ホビー &gt; アニメグッズ &gt; その他</td>\n",
       "    </tr>\n",
       "    <tr>\n",
       "      <th>6</th>\n",
       "      <td>6</td>\n",
       "      <td>エンタメ/ホビー &gt; フィギュア &gt; アニメ/ゲーム</td>\n",
       "    </tr>\n",
       "    <tr>\n",
       "      <th>7</th>\n",
       "      <td>7</td>\n",
       "      <td>エンタメ/ホビー &gt; フィギュア &gt; 特撮</td>\n",
       "    </tr>\n",
       "    <tr>\n",
       "      <th>8</th>\n",
       "      <td>8</td>\n",
       "      <td>レディース &gt; ワンピース &gt; ひざ丈ワンピース</td>\n",
       "    </tr>\n",
       "    <tr>\n",
       "      <th>9</th>\n",
       "      <td>9</td>\n",
       "      <td>インテリア/住まい/日用品 &gt; 文房具 &gt; ペン/マーカー</td>\n",
       "    </tr>\n",
       "    <tr>\n",
       "      <th>10</th>\n",
       "      <td>10</td>\n",
       "      <td>スポーツ/アウトドア &gt; フィッシング &gt; ルアー用品</td>\n",
       "    </tr>\n",
       "    <tr>\n",
       "      <th>11</th>\n",
       "      <td>11</td>\n",
       "      <td>エンタメ/ホビー &gt; おもちゃ/ぬいぐるみ &gt; ぬいぐるみ</td>\n",
       "    </tr>\n",
       "    <tr>\n",
       "      <th>12</th>\n",
       "      <td>12</td>\n",
       "      <td>エンタメ/ホビー &gt; おもちゃ/ぬいぐるみ &gt; 模型/プラモデル</td>\n",
       "    </tr>\n",
       "    <tr>\n",
       "      <th>13</th>\n",
       "      <td>13</td>\n",
       "      <td>メンズ &gt; トップス &gt; Tシャツ/カットソー(半袖/袖なし)</td>\n",
       "    </tr>\n",
       "    <tr>\n",
       "      <th>14</th>\n",
       "      <td>14</td>\n",
       "      <td>スマホ/家電/カメラ &gt; オーディオ機器 &gt; ヘッドフォン/イヤフォン</td>\n",
       "    </tr>\n",
       "    <tr>\n",
       "      <th>15</th>\n",
       "      <td>15</td>\n",
       "      <td>エンタメ/ホビー &gt; トレーディングカード &gt; シングルカード</td>\n",
       "    </tr>\n",
       "    <tr>\n",
       "      <th>16</th>\n",
       "      <td>16</td>\n",
       "      <td>楽器 &gt; ギター &gt; エレキギター</td>\n",
       "    </tr>\n",
       "    <tr>\n",
       "      <th>17</th>\n",
       "      <td>17</td>\n",
       "      <td>メンズ &gt; 靴/シューズ &gt; スニーカー</td>\n",
       "    </tr>\n",
       "    <tr>\n",
       "      <th>18</th>\n",
       "      <td>18</td>\n",
       "      <td>エンタメ/ホビー &gt; 美術品/アンティーク &gt; 絵画/タペストリー</td>\n",
       "    </tr>\n",
       "    <tr>\n",
       "      <th>19</th>\n",
       "      <td>19</td>\n",
       "      <td>エンタメ/ホビー &gt; おもちゃ/ぬいぐるみ &gt; ミニカー</td>\n",
       "    </tr>\n",
       "    <tr>\n",
       "      <th>20</th>\n",
       "      <td>20</td>\n",
       "      <td>エンタメ/ホビー &gt; テレビゲーム &gt; 家庭用ゲーム本体</td>\n",
       "    </tr>\n",
       "    <tr>\n",
       "      <th>21</th>\n",
       "      <td>21</td>\n",
       "      <td>エンタメ/ホビー &gt; テレビゲーム &gt; 家庭用ゲームソフト</td>\n",
       "    </tr>\n",
       "  </tbody>\n",
       "</table>\n",
       "</div>"
      ],
      "text/plain": [
       "     k                                    v\n",
       "0    0             エンタメ/ホビー > エンタメその他 > その他\n",
       "1    1         エンタメ/ホビー > CD > ポップス/ロック(洋楽)\n",
       "2    2         エンタメ/ホビー > CD > ポップス/ロック(邦楽)\n",
       "3    3                  エンタメ/ホビー > CD > アニメ\n",
       "4    4    エンタメ/ホビー > おもちゃ/ぬいぐるみ > キャラクターグッズ\n",
       "5    5              エンタメ/ホビー > アニメグッズ > その他\n",
       "6    6           エンタメ/ホビー > フィギュア > アニメ/ゲーム\n",
       "7    7                エンタメ/ホビー > フィギュア > 特撮\n",
       "8    8             レディース > ワンピース > ひざ丈ワンピース\n",
       "9    9        インテリア/住まい/日用品 > 文房具 > ペン/マーカー\n",
       "10  10          スポーツ/アウトドア > フィッシング > ルアー用品\n",
       "11  11        エンタメ/ホビー > おもちゃ/ぬいぐるみ > ぬいぐるみ\n",
       "12  12     エンタメ/ホビー > おもちゃ/ぬいぐるみ > 模型/プラモデル\n",
       "13  13      メンズ > トップス > Tシャツ/カットソー(半袖/袖なし)\n",
       "14  14  スマホ/家電/カメラ > オーディオ機器 > ヘッドフォン/イヤフォン\n",
       "15  15      エンタメ/ホビー > トレーディングカード > シングルカード\n",
       "16  16                    楽器 > ギター > エレキギター\n",
       "17  17                 メンズ > 靴/シューズ > スニーカー\n",
       "18  18    エンタメ/ホビー > 美術品/アンティーク > 絵画/タペストリー\n",
       "19  19         エンタメ/ホビー > おもちゃ/ぬいぐるみ > ミニカー\n",
       "20  20         エンタメ/ホビー > テレビゲーム > 家庭用ゲーム本体\n",
       "21  21        エンタメ/ホビー > テレビゲーム > 家庭用ゲームソフト"
      ]
     },
     "execution_count": 34,
     "metadata": {},
     "output_type": "execute_result"
    }
   ],
   "source": [
    "pd.DataFrame([\n",
    "    {\"k\":k,\"v\":v}\n",
    "    for k,v in idx2category.items()\n",
    "]).to_csv('idx2category.csv',index=False)"
   ]
  },
  {
   "cell_type": "code",
   "execution_count": 35,
   "metadata": {},
   "outputs": [
    {
     "name": "stdout",
     "output_type": "stream",
     "text": [
      " ドライブ C のボリューム ラベルがありません。\n",
      " ボリューム シリアル番号は 8A01-D063 です\n",
      "\n",
      " C:\\Users\\yasup のディレクトリ\n",
      "\n",
      "2021/04/21  21:48    <DIR>          .\n",
      "2021/04/21  21:48    <DIR>          ..\n",
      "2019/08/09  00:42    <DIR>          .anaconda\n",
      "2019/10/18  20:32    <DIR>          .astropy\n",
      "2020/03/17  23:18             1,567 .bash_history\n",
      "2019/05/02  14:05    <DIR>          .cache\n",
      "2021/04/19  20:28    <DIR>          .conda\n",
      "2021/04/19  18:45                43 .condarc\n",
      "2021/03/03  20:21    <DIR>          .cookiecutters\n",
      "2019/12/17  23:49                52 .gitconfig\n",
      "2019/08/08  23:31    <DIR>          .idlerc\n",
      "2021/04/19  18:38    <DIR>          .ipynb_checkpoints\n",
      "2019/09/13  19:24    <DIR>          .ipython\n",
      "2019/09/13  19:24    <DIR>          .jupyter\n",
      "2019/12/10  23:29    <DIR>          .keras\n",
      "2019/12/13  18:45    <DIR>          .matplotlib\n",
      "2019/06/16  23:05    <DIR>          .Origin\n",
      "2019/10/06  23:11    <DIR>          .PyCharmCE2019.2\n",
      "2021/04/18  12:36    <DIR>          .pylint.d\n",
      "2020/12/30  11:43                12 .python_history\n",
      "2019/06/16  23:05    <DIR>          .QtWebEngineProcess\n",
      "2019/10/08  22:53    <DIR>          .spyder-py3\n",
      "2019/09/21  19:47    <DIR>          .ssh\n",
      "2019/04/27  21:11               207 .swfinfo\n",
      "2020/03/05  21:00    <DIR>          .vscode\n",
      "2021/02/01  20:56    <DIR>          3D Objects\n",
      "2021/04/18  18:40       188,291,435 all_rakuma.csv\n",
      "2020/12/30  11:54    <DIR>          Anaconda3\n",
      "2019/05/26  23:48    <DIR>          ansel\n",
      "2019/12/15  10:02    <DIR>          Apple\n",
      "2021/04/13  19:50    <DIR>          blogproject\n",
      "2019/12/17  21:58    <DIR>          cache\n",
      "2021/02/01  20:56    <DIR>          Contacts\n",
      "2021/04/21  21:02    <DIR>          Creative Cloud Files\n",
      "2020/10/21  20:16               106 debug.log\n",
      "2021/04/21  20:22    <DIR>          Desktop\n",
      "2020/03/24  22:42    <DIR>          djangogirls\n",
      "2019/04/27  19:55    <DIR>          Documents\n",
      "2019/04/27  19:55    <DIR>          Downloads\n",
      "2020/11/24  18:49    <DIR>          Dropbox\n",
      "2021/02/01  20:56    <DIR>          Favorites\n",
      "2021/04/11  12:42    <DIR>          helloworldproject\n",
      "2021/04/21  21:48             1,530 idx2category.csv\n",
      "2020/03/26  21:39             2,221 im2.py\n",
      "2019/04/27  17:34    <DIR>          Intel\n",
      "2019/12/16  20:39    <DIR>          introduction_to_ml_with_python\n",
      "2020/10/21  21:48             4,750 iris.csv\n",
      "2021/01/08  19:20    <DIR>          JPKI\n",
      "2021/02/01  20:56    <DIR>          Links\n",
      "2020/04/07  21:18           169,687 matplotlib.ipynb\n",
      "2019/04/27  19:55    <DIR>          Music\n",
      "2021/04/12  19:58    <DIR>          OneDrive\n",
      "2019/04/27  19:55    <DIR>          Pictures\n",
      "2019/12/16  00:56    <DIR>          PycharmProjects\n",
      "2021/04/20  18:23            34,294 rakuma_NLPr.ipynb\n",
      "2021/04/21  21:48            40,325 ramuma_NLP.ipynb\n",
      "2021/04/19  18:49       579,303,854 rdmf.pickle\n",
      "2021/04/21  21:48                 0 rdmg.pickle\n",
      "2021/02/01  20:56    <DIR>          Saved Games\n",
      "2020/10/21  22:11           512,095 scikit-learn.ipynb\n",
      "2020/08/25  20:30             1,460 scraping.ipynb\n",
      "2021/02/01  20:56    <DIR>          Searches\n",
      "2020/11/18  20:54               555 sklearn.ipynb\n",
      "2020/04/15  10:15                 0 Sti_Trace.log\n",
      "2020/05/28  22:25           804,133 sumo.ipynb\n",
      "2020/05/26  21:14           826,772 suumo.csv\n",
      "2020/01/15  20:25               345 tmp\n",
      "2020/01/15  21:16             2,455 tree.dot\n",
      "2021/04/18  18:55             5,245 Untitled.ipynb\n",
      "2020/08/25  20:26                72 Untitled1.ipynb\n",
      "2021/04/21  21:01    <DIR>          Videos\n",
      "              25 個のファイル         770,003,215 バイト\n",
      "              46 個のディレクトリ  99,821,658,112 バイトの空き領域\n"
     ]
    }
   ],
   "source": [
    "ls"
   ]
  },
  {
   "cell_type": "code",
   "execution_count": 40,
   "metadata": {},
   "outputs": [
    {
     "ename": "SyntaxError",
     "evalue": "invalid syntax (<ipython-input-40-21ffc7b8ac12>, line 1)",
     "output_type": "error",
     "traceback": [
      "\u001b[1;36m  File \u001b[1;32m\"<ipython-input-40-21ffc7b8ac12>\"\u001b[1;36m, line \u001b[1;32m1\u001b[0m\n\u001b[1;33m    {row:k row:v for idx,row in pd.read_csv('idx2category.csv').iterrows()}\u001b[0m\n\u001b[1;37m             ^\u001b[0m\n\u001b[1;31mSyntaxError\u001b[0m\u001b[1;31m:\u001b[0m invalid syntax\n"
     ]
    }
   ],
   "source": []
  },
  {
   "cell_type": "code",
   "execution_count": null,
   "metadata": {},
   "outputs": [],
   "source": []
  },
  {
   "cell_type": "code",
   "execution_count": null,
   "metadata": {},
   "outputs": [],
   "source": []
  },
  {
   "cell_type": "code",
   "execution_count": null,
   "metadata": {},
   "outputs": [],
   "source": []
  },
  {
   "cell_type": "code",
   "execution_count": null,
   "metadata": {},
   "outputs": [],
   "source": []
  },
  {
   "cell_type": "code",
   "execution_count": null,
   "metadata": {},
   "outputs": [],
   "source": []
  },
  {
   "cell_type": "code",
   "execution_count": null,
   "metadata": {},
   "outputs": [],
   "source": []
  },
  {
   "cell_type": "code",
   "execution_count": null,
   "metadata": {},
   "outputs": [],
   "source": []
  },
  {
   "cell_type": "code",
   "execution_count": null,
   "metadata": {},
   "outputs": [],
   "source": []
  },
  {
   "cell_type": "code",
   "execution_count": null,
   "metadata": {},
   "outputs": [],
   "source": []
  }
 ],
 "metadata": {
  "kernelspec": {
   "display_name": "Python 3",
   "language": "python",
   "name": "python3"
  },
  "language_info": {
   "codemirror_mode": {
    "name": "ipython",
    "version": 3
   },
   "file_extension": ".py",
   "mimetype": "text/x-python",
   "name": "python",
   "nbconvert_exporter": "python",
   "pygments_lexer": "ipython3",
   "version": "3.7.5"
  }
 },
 "nbformat": 4,
 "nbformat_minor": 4
}
